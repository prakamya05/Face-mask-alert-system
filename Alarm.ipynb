{
 "cells": [
  {
   "cell_type": "code",
   "execution_count": 3,
   "id": "fb5eec09",
   "metadata": {},
   "outputs": [],
   "source": [
    "import os\n",
    "import datetime\n",
    "import winsound"
   ]
  },
  {
   "cell_type": "code",
   "execution_count": 4,
   "id": "755497a8",
   "metadata": {},
   "outputs": [
    {
     "name": "stdout",
     "output_type": "stream",
     "text": [
      "Alert!No mask\n"
     ]
    }
   ],
   "source": [
    "print('Alert!No mask')\n",
    "winsound.PlaySound(\"alarm.wav\",winsound.SND_ASYNC)\n"
   ]
  },
  {
   "cell_type": "code",
   "execution_count": null,
   "id": "42912d88",
   "metadata": {},
   "outputs": [],
   "source": []
  }
 ],
 "metadata": {
  "kernelspec": {
   "display_name": "Python 3",
   "language": "python",
   "name": "python3"
  },
  "language_info": {
   "codemirror_mode": {
    "name": "ipython",
    "version": 3
   },
   "file_extension": ".py",
   "mimetype": "text/x-python",
   "name": "python",
   "nbconvert_exporter": "python",
   "pygments_lexer": "ipython3",
   "version": "3.7.10"
  }
 },
 "nbformat": 4,
 "nbformat_minor": 5
}
