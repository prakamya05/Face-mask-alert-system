{
 "cells": [
  {
   "cell_type": "code",
   "execution_count": null,
   "id": "365d0b16",
   "metadata": {},
   "outputs": [],
   "source": [
    "import smtplib\n",
    "from email.message import EmailMessage"
   ]
  },
  {
   "cell_type": "code",
   "execution_count": null,
   "id": "3274f008",
   "metadata": {},
   "outputs": [],
   "source": [
    "SUBJECT = \"Subject\"   \n",
    "TEXT = \"One Visitor violated Face Mask Policy. See in the camera to recognize user. A Person has been detected without a face mask in the Hotel Lobby Area 9. Please Alert the authorities.\"\n",
    "\n",
    "\n",
    "message = 'Subject: {}\\n\\n{}'.format(SUBJECT, TEXT)\n",
    "            mail = smtplib.SMTP('smtp.gmail.com', 587)\n",
    "            mail.ehlo()\n",
    "            mail.starttls()\n",
    "            mail.login('prakamyasingh513@gmail.com','prakamya.99')\n",
    "            mail.sendmail('prakamyasingh513@gmail.com','pratimasingh011974@gmail.com',message)\n",
    "            mail.close\n",
    "            \n",
    "            \n"
   ]
  }
 ],
 "metadata": {
  "kernelspec": {
   "display_name": "Python 3",
   "language": "python",
   "name": "python3"
  },
  "language_info": {
   "codemirror_mode": {
    "name": "ipython",
    "version": 3
   },
   "file_extension": ".py",
   "mimetype": "text/x-python",
   "name": "python",
   "nbconvert_exporter": "python",
   "pygments_lexer": "ipython3",
   "version": "3.7.10"
  }
 },
 "nbformat": 4,
 "nbformat_minor": 5
}
